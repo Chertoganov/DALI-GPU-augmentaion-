{
  "nbformat": 4,
  "nbformat_minor": 0,
  "metadata": {
    "colab": {
      "name": "DALI-external-data-multi-label",
      "provenance": [],
      "collapsed_sections": []
    },
    "kernelspec": {
      "name": "python3",
      "display_name": "Python 3"
    },
    "accelerator": "GPU"
  },
  "cells": [
    {
      "cell_type": "markdown",
      "metadata": {
        "id": "GbNn34dodj8B",
        "colab_type": "text"
      },
      "source": [
        "[Blog post](https://www.basicml.com)"
      ]
    },
    {
      "cell_type": "code",
      "metadata": {
        "id": "Ei2_bEpaR2FO",
        "colab_type": "code",
        "colab": {
          "base_uri": "https://localhost:8080/",
          "height": 83
        },
        "outputId": "6792d702-2537-45d8-e4a4-092d9e965f30"
      },
      "source": [
        "!nvcc --version"
      ],
      "execution_count": 18,
      "outputs": [
        {
          "output_type": "stream",
          "text": [
            "nvcc: NVIDIA (R) Cuda compiler driver\n",
            "Copyright (c) 2005-2019 NVIDIA Corporation\n",
            "Built on Sun_Jul_28_19:07:16_PDT_2019\n",
            "Cuda compilation tools, release 10.1, V10.1.243\n"
          ],
          "name": "stdout"
        }
      ]
    },
    {
      "cell_type": "code",
      "metadata": {
        "id": "s08zJMHfRgvB",
        "colab_type": "code",
        "colab": {
          "base_uri": "https://localhost:8080/",
          "height": 67
        },
        "outputId": "a2cb40d0-4611-4571-e2e4-0ca417a76c56"
      },
      "source": [
        "!pip install --extra-index-url https://developer.download.nvidia.com/compute/redist/cuda/10.0 nvidia-dali"
      ],
      "execution_count": 19,
      "outputs": [
        {
          "output_type": "stream",
          "text": [
            "Looking in indexes: https://pypi.org/simple, https://developer.download.nvidia.com/compute/redist/cuda/10.0\n",
            "Requirement already satisfied: nvidia-dali in /usr/local/lib/python3.6/dist-packages (0.22.0)\n",
            "Requirement already satisfied: future in /usr/local/lib/python3.6/dist-packages (from nvidia-dali) (0.16.0)\n"
          ],
          "name": "stdout"
        }
      ]
    },
    {
      "cell_type": "code",
      "metadata": {
        "id": "tVkFbbQF53MD",
        "colab_type": "code",
        "colab": {}
      },
      "source": [
        ""
      ],
      "execution_count": 19,
      "outputs": []
    },
    {
      "cell_type": "code",
      "metadata": {
        "id": "VhJoenqRRrGv",
        "colab_type": "code",
        "colab": {}
      },
      "source": [
        "import types\n",
        "import numpy as np\n",
        "import collections\n",
        "import pandas as pd\n",
        "from torch.utils import data\n",
        "from random import shuffle\n",
        "\n",
        "import nvidia.dali.ops as ops\n",
        "import nvidia.dali.types as types\n",
        "from nvidia.dali.pipeline import Pipeline"
      ],
      "execution_count": 20,
      "outputs": []
    },
    {
      "cell_type": "code",
      "metadata": {
        "id": "v3eIOKVQSMwx",
        "colab_type": "code",
        "colab": {}
      },
      "source": [
        "class ExternalInputIterator(object):\n",
        "    def __init__(self, batch_size, data_file, image_dir, shuffle_files=True):\n",
        "        self.images_dir = image_dir\n",
        "        self.batch_size = batch_size\n",
        "        self.data_file = data_file\n",
        "        self.shuffle_files = shuffle_files\n",
        "        with open(self.data_file, 'r') as f:\n",
        "            self.files = [line.rstrip() for line in f if line is not '']\n",
        "        self.idxs = []\n",
        "\n",
        "    def __iter__(self):\n",
        "        self.n = len(self.files)\n",
        "        return self\n",
        "\n",
        "    def __next__(self):\n",
        "        batch = []\n",
        "        labels = []\n",
        "        for _ in range(self.batch_size):\n",
        "            jpeg_filename, text, *label = self.files[self.get_idx()].split(' ')\n",
        "            f = open(image_dir + jpeg_filename, 'rb')\n",
        "            batch.append(np.frombuffer(f.read(), dtype = np.uint8))\n",
        "            labels.append(np.array(label, dtype = np.uint8))\n",
        "        return (batch, labels)\n",
        "    \n",
        "    def get_idx(self):\n",
        "        if len(self.idxs) == 0:\n",
        "            print(\"Shuffling\")\n",
        "            self.idxs = list(range(self.n))\n",
        "            if self.shuffle_files:\n",
        "                shuffle(self.idxs)\n",
        "        return self.idxs.pop()\n",
        "      \n",
        "    next = __next__"
      ],
      "execution_count": 21,
      "outputs": []
    },
    {
      "cell_type": "code",
      "metadata": {
        "id": "4gN5XYscHM8a",
        "colab_type": "code",
        "colab": {}
      },
      "source": [
        "class ExternalInputDataset(data.Dataset):\n",
        "    def __init__(self, batch_size, data_file, image_dir, shuffle_files=True):\n",
        "        self.images_dir = image_dir\n",
        "        self.batch_size = batch_size\n",
        "        self.data_file = data_file\n",
        "        self.shuffle_files = shuffle_files\n",
        "        with open(self.data_file, 'r') as f:\n",
        "            self.files = [line.rstrip() for line in f if line is not '']\n",
        "        self.idxs = []\n",
        "\n",
        "    def __len__(self):\n",
        "        return len(self.files)\n",
        "        \n",
        "    def __getitem__(self, index):\n",
        "        jpeg_filename, *label = self.files[index].split(' ')\n",
        "        f = open(image_dir + jpeg_filename, 'rb')\n",
        "        image = np.frombuffer(f.read(), dtype = np.uint8)\n",
        "        label = np.array(label, dtype = np.uint8)\n",
        "        return image, label"
      ],
      "execution_count": 22,
      "outputs": []
    },
    {
      "cell_type": "code",
      "metadata": {
        "id": "8szLjA1VT11e",
        "colab_type": "code",
        "colab": {
          "base_uri": "https://localhost:8080/",
          "height": 47
        },
        "outputId": "260b79fe-0588-40f3-fa2d-7186f65f34ea"
      },
      "source": [
        "!wget -cq https://s3.amazonaws.com/content.udacity-data.com/courses/nd188/flower_data.zip\n",
        "!unzip -qq flower_data.zip\n",
        "!mkdir -p ./flower_data/flower_data_flat\n",
        "!find ./flower_data/train -mindepth 2 -type f -exec mv -t ./flower_data/flower_data_flat -i '{}' +"
      ],
      "execution_count": null,
      "outputs": [
        {
          "output_type": "stream",
          "text": [
            "replace flower_data/valid/61/image_06296.jpg? [y]es, [n]o, [A]ll, [N]one, [r]ename: "
          ],
          "name": "stdout"
        }
      ]
    },
    {
      "cell_type": "markdown",
      "metadata": {
        "id": "1Z4CL5qgUt6H",
        "colab_type": "text"
      },
      "source": [
        ""
      ]
    },
    {
      "cell_type": "markdown",
      "metadata": {
        "id": "K2MKPryuUt3d",
        "colab_type": "text"
      },
      "source": [
        ""
      ]
    },
    {
      "cell_type": "code",
      "metadata": {
        "id": "dGJsMg6uVIYq",
        "colab_type": "code",
        "colab": {}
      },
      "source": [
        "image_dir = \"./flower_data/flower_data_flat/\""
      ],
      "execution_count": null,
      "outputs": []
    },
    {
      "cell_type": "code",
      "metadata": {
        "id": "N8PAWB1AUa9X",
        "colab_type": "code",
        "colab": {}
      },
      "source": [
        "from os import listdir\n",
        "from os.path import isfile, join\n",
        "image_files = [f for f in listdir(image_dir) if isfile(join(image_dir, f))]"
      ],
      "execution_count": null,
      "outputs": []
    },
    {
      "cell_type": "code",
      "metadata": {
        "id": "ZHrm5_vmdcN5",
        "colab_type": "code",
        "colab": {}
      },
      "source": [
        "image_files"
      ],
      "execution_count": null,
      "outputs": []
    },
    {
      "cell_type": "code",
      "metadata": {
        "id": "Nj3ispwRU-iX",
        "colab_type": "code",
        "colab": {}
      },
      "source": [
        "data_frame = pd.DataFrame(list(zip(image_files, \n",
        "                               list(range(len(image_files))), \n",
        "                               list(range(len(image_files))))), \n",
        "                          columns=['image_filename', 'label_1', 'label_2'])"
      ],
      "execution_count": null,
      "outputs": []
    },
    {
      "cell_type": "code",
      "metadata": {
        "id": "CREWmwqVVdFG",
        "colab_type": "code",
        "colab": {}
      },
      "source": [
        "data_frame.head()"
      ],
      "execution_count": null,
      "outputs": []
    },
    {
      "cell_type": "markdown",
      "metadata": {
        "id": "XbYiWulP0UTH",
        "colab_type": "text"
      },
      "source": [
        ""
      ]
    },
    {
      "cell_type": "code",
      "metadata": {
        "id": "q7tFvqnrPLP6",
        "colab_type": "code",
        "colab": {}
      },
      "source": [
        "import PIL.Image"
      ],
      "execution_count": null,
      "outputs": []
    },
    {
      "cell_type": "code",
      "metadata": {
        "id": "R6fI8kOtOsMl",
        "colab_type": "code",
        "colab": {}
      },
      "source": [
        "for file in data_frame['image_filename']:\n",
        "  PIL.Image.open(image_dir + file).convert('RGB')"
      ],
      "execution_count": null,
      "outputs": []
    },
    {
      "cell_type": "code",
      "metadata": {
        "id": "aAEl3VIZV6X9",
        "colab_type": "code",
        "colab": {}
      },
      "source": [
        "data_frame.to_csv('dummy_data.csv', index=False, header=False, sep=\" \")"
      ],
      "execution_count": null,
      "outputs": []
    },
    {
      "cell_type": "code",
      "metadata": {
        "id": "hFAv5suXH30X",
        "colab_type": "code",
        "colab": {}
      },
      "source": [
        "dataset = ExternalInputDataset(batch_size=16, \n",
        "                            data_file='dummy_data.csv', \n",
        "                            image_dir=image_dir)"
      ],
      "execution_count": null,
      "outputs": []
    },
    {
      "cell_type": "code",
      "metadata": {
        "id": "96J9v_ERIk8t",
        "colab_type": "code",
        "colab": {}
      },
      "source": [
        "dataset[0]"
      ],
      "execution_count": null,
      "outputs": []
    },
    {
      "cell_type": "code",
      "metadata": {
        "id": "ql22OQRaISxI",
        "colab_type": "code",
        "colab": {}
      },
      "source": [
        "def collate_fn(batch):\n",
        "  images = [item[0] for item in batch]\n",
        "  labels = [item[1] for item in batch]\n",
        "  return images, labels"
      ],
      "execution_count": null,
      "outputs": []
    },
    {
      "cell_type": "code",
      "metadata": {
        "id": "30gKNu6QH-64",
        "colab_type": "code",
        "colab": {}
      },
      "source": [
        "dataset_loader = data.DataLoader(dataset, batch_size=16, shuffle=True, num_workers=1, pin_memory=False, collate_fn=collate_fn)"
      ],
      "execution_count": null,
      "outputs": []
    },
    {
      "cell_type": "code",
      "metadata": {
        "id": "Qvauj1d_IKAX",
        "colab_type": "code",
        "colab": {}
      },
      "source": [
        "iter(dataset_loader).next()"
      ],
      "execution_count": null,
      "outputs": []
    },
    {
      "cell_type": "code",
      "metadata": {
        "id": "b7MiB5n8WE-U",
        "colab_type": "code",
        "colab": {}
      },
      "source": [
        "eii = ExternalInputIterator(batch_size=16, \n",
        "                            data_file='dummy_data.csv', \n",
        "                            image_dir=image_dir)\n",
        "iterator = iter(eii)"
      ],
      "execution_count": null,
      "outputs": []
    },
    {
      "cell_type": "code",
      "metadata": {
        "id": "gSRnAOL9Lzq2",
        "colab_type": "code",
        "colab": {}
      },
      "source": [
        "im, lab = next(iterator)"
      ],
      "execution_count": null,
      "outputs": []
    },
    {
      "cell_type": "code",
      "metadata": {
        "id": "sbKl1Tv2L_I2",
        "colab_type": "code",
        "colab": {}
      },
      "source": [
        "im"
      ],
      "execution_count": null,
      "outputs": []
    },
    {
      "cell_type": "code",
      "metadata": {
        "id": "8bZVEVeW2sR4",
        "colab_type": "code",
        "colab": {}
      },
      "source": [
        "lab"
      ],
      "execution_count": null,
      "outputs": []
    },
    {
      "cell_type": "code",
      "metadata": {
        "id": "fJIK_jFzWLY1",
        "colab_type": "code",
        "colab": {}
      },
      "source": [
        "class ExternalSourcePipeline(Pipeline):\n",
        "    def __init__(self, source, batch_size, num_threads, device_id):\n",
        "        super(ExternalSourcePipeline, self).__init__(batch_size,\n",
        "                                      num_threads,\n",
        "                                      device_id,\n",
        "                                      seed=12)\n",
        "        self.source = source\n",
        "        self.source_iter = iter(source)\n",
        "        self.input = ops.ExternalSource()\n",
        "        self.input_label = ops.ExternalSource()\n",
        "        self.decode = ops.ImageDecoder(device = \"mixed\", output_type = types.RGB)\n",
        "        self.res = ops.Resize(device=\"gpu\", resize_x=224, resize_y=224, interp_type=types.INTERP_TRIANGULAR)\n",
        "        self.cast = ops.Cast(device = \"gpu\", dtype = types.INT32)\n",
        "\n",
        "    def define_graph(self):\n",
        "        self.jpegs = self.input()\n",
        "        self.labels = self.input_label()\n",
        "        images = self.decode(self.jpegs)\n",
        "        output = self.res(images)\n",
        "        return (output, self.labels)\n",
        "\n",
        "    def iter_setup(self):\n",
        "        try:\n",
        "          p = self.source_iter.next()\n",
        "        except:\n",
        "          print(\"Exception occured\")\n",
        "          self.source_iter = iter(self.source)\n",
        "          p = self.source_iter.next()\n",
        "        images, labels = p\n",
        "        self.feed_input(self.jpegs, images)\n",
        "        self.feed_input(self.labels, labels)"
      ],
      "execution_count": null,
      "outputs": []
    },
    {
      "cell_type": "code",
      "metadata": {
        "id": "O8TGkfmDWOpt",
        "colab_type": "code",
        "colab": {}
      },
      "source": [
        "pipe = ExternalSourcePipeline(source=dataset_loader, batch_size=16, num_threads=4, device_id = 0)\n",
        "pipe.build()"
      ],
      "execution_count": null,
      "outputs": []
    },
    {
      "cell_type": "code",
      "metadata": {
        "id": "z1dateCBWR1N",
        "colab_type": "code",
        "colab": {}
      },
      "source": [
        "from nvidia.dali.plugin.pytorch import DALIGenericIterator"
      ],
      "execution_count": null,
      "outputs": []
    },
    {
      "cell_type": "code",
      "metadata": {
        "id": "4ZBOBgIyNwKw",
        "colab_type": "code",
        "colab": {}
      },
      "source": [
        "len(dataset)"
      ],
      "execution_count": null,
      "outputs": []
    },
    {
      "cell_type": "markdown",
      "metadata": {
        "id": "YQqmvYApE5pP",
        "colab_type": "text"
      },
      "source": [
        ""
      ]
    },
    {
      "cell_type": "code",
      "metadata": {
        "id": "Fq6iZHDOWs9c",
        "colab_type": "code",
        "colab": {}
      },
      "source": [
        "len(dataset_loader)"
      ],
      "execution_count": null,
      "outputs": []
    },
    {
      "cell_type": "code",
      "metadata": {
        "id": "A6kT5qSelLsF",
        "colab_type": "code",
        "colab": {}
      },
      "source": [
        "dali_iter = DALIGenericIterator([pipe], ['images', 'labels'], 400*16)"
      ],
      "execution_count": null,
      "outputs": []
    },
    {
      "cell_type": "code",
      "metadata": {
        "id": "OA7bYv5su5Iq",
        "colab_type": "code",
        "colab": {}
      },
      "source": [
        "dali_iter"
      ],
      "execution_count": null,
      "outputs": []
    },
    {
      "cell_type": "code",
      "metadata": {
        "id": "WzXhGTY-lNTl",
        "colab_type": "code",
        "colab": {}
      },
      "source": [
        "#%%time\n",
        "import time\n",
        "start = time.time()\n",
        "for epoch in range(16):\n",
        "  for i, it in enumerate(dali_iter, 5):\n",
        "    batch_data = it[0]\n",
        "    images, labels = batch_data[\"images\"], batch_data[\"labels\"]\n",
        "    #print(len(images))\n",
        "  dali_iter.reset()\n",
        "print(time.time() - start)"
      ],
      "execution_count": null,
      "outputs": []
    },
    {
      "cell_type": "code",
      "metadata": {
        "id": "K22jFcJTvpQ5",
        "colab_type": "code",
        "colab": {}
      },
      "source": [
        ""
      ],
      "execution_count": null,
      "outputs": []
    }
  ]
}